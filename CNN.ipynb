{
 "cells": [
  {
   "cell_type": "code",
   "execution_count": 24,
   "metadata": {},
   "outputs": [],
   "source": [
    "import torch\n",
    "import torch.nn as nn\n",
    "import torchvision\n",
    "import torchvision.transforms as transforms "
   ]
  },
  {
   "cell_type": "code",
   "execution_count": 28,
   "metadata": {},
   "outputs": [],
   "source": [
    "num_epochs=5\n",
    "batch_size=64\n",
    "learning_rate=0.001\n",
    "num_classes=10"
   ]
  },
  {
   "cell_type": "code",
   "execution_count": 29,
   "metadata": {},
   "outputs": [],
   "source": [
    "train_dataset=torchvision.datasets.MNIST(\"../../data\",train=True,transform=transforms.ToTensor(),download=False)\n",
    "test_dataset=torchvision.datasets.MNIST(\"../../data\",train=False,transform=transforms.ToTensor(),download=False)\n",
    "train_loader=torch.utils.data.DataLoader(train_dataset,batch_size=batch_size,shuffle=True,drop_last=True)\n",
    "test_loader=torch.utils.data.DataLoader(test_dataset,batch_size=batch_size,shuffle=False)"
   ]
  },
  {
   "cell_type": "code",
   "execution_count": 56,
   "metadata": {
    "scrolled": true
   },
   "outputs": [],
   "source": [
    "class ConvNet(nn.Module):\n",
    "    def __init__ (self,num_classes):\n",
    "        super().__init__()\n",
    "        self.layer1=nn.Sequential(nn.Conv2d(1,16,kernel_size=5,stride=1,padding=2),\n",
    "                                 nn.BatchNorm2d(16),\n",
    "                                 nn.ReLU(),\n",
    "                                 nn.MaxPool2d(kernel_size=2,stride=2))\n",
    "        self.layer2=nn.Sequential(nn.Conv2d(16,32,kernel_size=5,stride=1,padding=2),\n",
    "                                 nn.BatchNorm2d(32),\n",
    "                                 nn.ReLU(),\n",
    "                                 nn.MaxPool2d(kernel_size=2,stride=2))\n",
    "        self.fc=nn.Linear(7*7*32,num_classes)\n",
    "    \n",
    "    def forward(self,x):\n",
    "        out=self.layer1(x)\n",
    "        out=self.layer2(out)\n",
    "        out=out.view(out.size(0),-1)\n",
    "        out=self.fc(out)\n",
    "        return out"
   ]
  },
  {
   "cell_type": "code",
   "execution_count": 57,
   "metadata": {},
   "outputs": [
    {
     "name": "stdout",
     "output_type": "stream",
     "text": [
      "epoch,\tstep,\tloss\n",
      "0,\t300,\t0.1198\n",
      "0,\t600,\t0.0257\n",
      "0,\t900,\t0.0147\n",
      "1,\t300,\t0.0125\n",
      "1,\t600,\t0.0100\n",
      "1,\t900,\t0.0639\n",
      "2,\t300,\t0.0279\n",
      "2,\t600,\t0.0874\n",
      "2,\t900,\t0.0343\n",
      "3,\t300,\t0.0023\n",
      "3,\t600,\t0.0023\n",
      "3,\t900,\t0.0440\n",
      "4,\t300,\t0.0061\n",
      "4,\t600,\t0.0125\n",
      "4,\t900,\t0.0091\n"
     ]
    }
   ],
   "source": [
    "model=ConvNet(num_classes)\n",
    "model.train()\n",
    "loss_func=nn.CrossEntropyLoss()\n",
    "optim=torch.optim.Adam(model.parameters(),lr=learning_rate)\n",
    "print(\"epoch,\\tstep,\\tloss\")\n",
    "\n",
    "for epoch in range(num_epochs):\n",
    "    for i ,(x,y) in enumerate(train_loader):\n",
    "        y_hat=model(x)\n",
    "        loss=loss_func(y_hat,y)\n",
    "        optim.zero_grad()\n",
    "        loss.backward()\n",
    "        optim.step()\n",
    "        if (i+1) % 300 ==0:\n",
    "            print(\"{},\\t{},\\t{:.4f}\".format(epoch,i+1,loss))"
   ]
  }
 ],
 "metadata": {
  "kernelspec": {
   "display_name": "Python [conda env:pytorch]",
   "language": "python",
   "name": "conda-env-pytorch-py"
  },
  "language_info": {
   "codemirror_mode": {
    "name": "ipython",
    "version": 3
   },
   "file_extension": ".py",
   "mimetype": "text/x-python",
   "name": "python",
   "nbconvert_exporter": "python",
   "pygments_lexer": "ipython3",
   "version": "3.7.11"
  }
 },
 "nbformat": 4,
 "nbformat_minor": 2
}
